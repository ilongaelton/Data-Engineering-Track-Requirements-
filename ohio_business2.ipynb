{
 "cells": [
  {
   "cell_type": "markdown",
   "metadata": {},
   "source": [
    " Extract Data"
   ]
  },
  {
   "cell_type": "code",
   "execution_count": 1,
   "metadata": {},
   "outputs": [
    {
     "name": "stdout",
     "output_type": "stream",
     "text": [
      "Requirement already satisfied: requests in c:\\users\\haylton ilonga\\appdata\\local\\programs\\python\\python313\\lib\\site-packages (2.32.3)Note: you may need to restart the kernel to use updated packages.\n",
      "\n",
      "Requirement already satisfied: charset-normalizer<4,>=2 in c:\\users\\haylton ilonga\\appdata\\local\\programs\\python\\python313\\lib\\site-packages (from requests) (3.4.1)\n",
      "Requirement already satisfied: idna<4,>=2.5 in c:\\users\\haylton ilonga\\appdata\\local\\programs\\python\\python313\\lib\\site-packages (from requests) (3.10)\n",
      "Requirement already satisfied: urllib3<3,>=1.21.1 in c:\\users\\haylton ilonga\\appdata\\local\\programs\\python\\python313\\lib\\site-packages (from requests) (2.3.0)\n",
      "Requirement already satisfied: certifi>=2017.4.17 in c:\\users\\haylton ilonga\\appdata\\local\\programs\\python\\python313\\lib\\site-packages (from requests) (2025.1.31)\n"
     ]
    },
    {
     "name": "stderr",
     "output_type": "stream",
     "text": [
      "\n",
      "[notice] A new release of pip is available: 24.3.1 -> 25.0.1\n",
      "[notice] To update, run: python.exe -m pip install --upgrade pip\n"
     ]
    }
   ],
   "source": [
    "pip install requests"
   ]
  },
  {
   "cell_type": "code",
   "execution_count": 27,
   "metadata": {},
   "outputs": [
    {
     "name": "stdout",
     "output_type": "stream",
     "text": [
      "              X              Y  OBJECTID   COLS_KEY                 LSN  \\\n",
      "0  1.796884e+06  731334.361343  20415656   626098.0  3750 ZANE TRACE DR   \n",
      "1  1.842715e+06  749717.238291  20415657  1268125.0       2645 MORSE RD   \n",
      "2  1.847615e+06  689890.356632  20415658   465109.0  3699 ALUM CREEK DR   \n",
      "3  1.796091e+06  728398.931190  20415659   810355.0    2180 N WILSON RD   \n",
      "4  1.806697e+06  712614.778047  20415660   885361.0     2872 W BROAD ST   \n",
      "\n",
      "                             POI_NAME                    POI_TYPE POI_SOURCE  \\\n",
      "0                          Pet Brands      Industrial - Warehouse        NaN   \n",
      "1  Kohler Bathroom & Kitchen Products  Retail - Commercial/Retail        NaN   \n",
      "2  Shasta National Beverage Warehouse      Industrial - Warehouse        NaN   \n",
      "3                  Metal Supermarkets  Retail - Commercial/Retail        NaN   \n",
      "4            American Health Network              Medical - Other        NaN   \n",
      "\n",
      "  PRIMARY_USE ALT_GEOM   PHONE_NUM                                GLOBALID  \\\n",
      "0           Y        Y         NaN  {F2C8EB1B-45DB-412A-B929-0D857CD18806}   \n",
      "1           Y        Y         NaN  {3A9C7DC9-08CD-4D6F-A03D-7B41D18DD20E}   \n",
      "2           Y        Y  6144599945  {6986355D-E68F-42EC-9B65-77BAD21BB0F9}   \n",
      "3           Y        Y         NaN  {067557F5-3473-4887-BF6E-1737847ACA36}   \n",
      "4           Y        Y         NaN  {B007DE45-FA77-4A34-8B37-5D9350A038B3}   \n",
      "\n",
      "  WEBSITE OB_GYN PEDIATRICS PRIMARY_CARE  SUTQ_RATING SNAP  WIC  \n",
      "0     NaN    NaN        NaN          NaN          NaN  NaN  NaN  \n",
      "1     NaN    NaN        NaN          NaN          NaN  NaN  NaN  \n",
      "2     NaN    NaN        NaN          NaN          NaN  NaN  NaN  \n",
      "3     NaN    NaN        NaN          NaN          NaN  NaN  NaN  \n",
      "4     NaN    NaN        NaN          NaN          NaN  NaN  NaN  \n",
      "{'error': {'code': 'VALIDATION_ERROR', 'description': \"'Bearer YOUR_YELP_API_KEY' does not match '^(?i)Bearer [A-Za-z0-9\\\\\\\\-\\\\\\\\_]{128}$'\", 'field': 'Authorization', 'instance': 'Bearer YOUR_YELP_API_KEY'}}\n"
     ]
    }
   ],
   "source": [
    "import pandas as pd\n",
    "import requests\n",
    "\n",
    "# Extract Ohio Business Data from CSV\n",
    "ohio_business_df = pd.read_csv(\"C:\\\\New folder\\\\Points_of_Interest (1).csv\")\n",
    "print(ohio_business_df.head())\n",
    "\n",
    "# Function to extract Yelp business data using Yelp API\n",
    "def get_yelp_data(business_name, location):\n",
    "    yelp_api_key = 'YOUR_YELP_API_KEY'\n",
    "    headers = {'Authorization': f'Bearer {yelp_api_key}'}\n",
    "    url = f'https://api.yelp.com/v3/businesses/search?term={business_name}&location={location}'\n",
    "    response = requests.get(url, headers=headers)\n",
    "    return response.json()\n",
    "\n",
    "# Example usage: Extract Yelp data for a business\n",
    "yelp_data = get_yelp_data('restaurant', 'Columbus, OH')\n",
    "print(yelp_data)"
   ]
  },
  {
   "cell_type": "markdown",
   "metadata": {},
   "source": [
    "TRANSFORM DATA"
   ]
  },
  {
   "cell_type": "code",
   "execution_count": 28,
   "metadata": {},
   "outputs": [
    {
     "name": "stdout",
     "output_type": "stream",
     "text": [
      "Transformed Yelp Data:\n",
      "Empty DataFrame\n",
      "Columns: []\n",
      "Index: []\n"
     ]
    }
   ],
   "source": [
    "# Transform Yelp Data\n",
    "yelp_transformed = []\n",
    "\n",
    "# Iterate through the Yelp API response and extract relevant fields\n",
    "for business in yelp_data.get('businesses', []):\n",
    "    yelp_transformed.append({\n",
    "        'business_id': business.get('id', None),  # Unique ID for the business\n",
    "        'name': business.get('name', None),  # Business name\n",
    "        'rating': business.get('rating', None),  # Yelp rating\n",
    "        'review_count': business.get('review_count', 0),  # Number of reviews\n",
    "        'categories': ', '.join([category['title'] for category in business.get('categories', [])]),  # Categories\n",
    "        'address': business['location'].get('address1', None),  # Address line 1\n",
    "        'city': business['location'].get('city', None)  # City\n",
    "    })\n",
    "\n",
    "# Convert the transformed data into a DataFrame\n",
    "yelp_df = pd.DataFrame(yelp_transformed)\n",
    "\n",
    "# Display the transformed Yelp data\n",
    "print(\"Transformed Yelp Data:\")\n",
    "print(yelp_df.head())"
   ]
  }
 ],
 "metadata": {
  "kernelspec": {
   "display_name": "Python 3",
   "language": "python",
   "name": "python3"
  },
  "language_info": {
   "codemirror_mode": {
    "name": "ipython",
    "version": 3
   },
   "file_extension": ".py",
   "mimetype": "text/x-python",
   "name": "python",
   "nbconvert_exporter": "python",
   "pygments_lexer": "ipython3",
   "version": "3.13.2"
  }
 },
 "nbformat": 4,
 "nbformat_minor": 2
}
