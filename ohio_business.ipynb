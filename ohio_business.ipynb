{
 "cells": [
  {
   "cell_type": "code",
   "execution_count": 57,
   "metadata": {},
   "outputs": [],
   "source": [
    "import pandas as pd\n"
   ]
  },
  {
   "cell_type": "code",
   "execution_count": 66,
   "metadata": {},
   "outputs": [],
   "source": [
    "# Step 1: Extract Ohio Business Data from CSV\n",
    "ohio_business_df = pd.read_csv(\"C:\\\\New folder\\\\Points_of_Interest (1).csv\")\n",
    "\n"
   ]
  },
  {
   "cell_type": "code",
   "execution_count": 78,
   "metadata": {},
   "outputs": [],
   "source": [
    "# Step 2: Drop unnecessary columns\n",
    "columns_to_drop = ['PRIMARY_CARE', 'SUTQ_RATING', 'SNAP', 'WIC' , 'PHONE_NUM'\n",
    "]\n",
    "ohio_business_df.drop(columns=columns_to_drop, inplace=True, errors='ignore')\n",
    "\n",
    "\n",
    "\n"
   ]
  },
  {
   "cell_type": "code",
   "execution_count": 79,
   "metadata": {},
   "outputs": [],
   "source": [
    "# Step 3: Rename columns to meaningful names\n",
    "ohio_business_df.rename(columns={\n",
    "    'X': 'x_coordinates',\n",
    "    'Y': 'y_coordinates',\n",
    "    'LSN': 'address',\n",
    "    'POI_NAME': 'business_name',\n",
    "    'POI_TYPE': 'category'\n",
    "}, inplace=True)\n",
    "\n",
    "\n"
   ]
  },
  {
   "cell_type": "code",
   "execution_count": 80,
   "metadata": {},
   "outputs": [
    {
     "name": "stdout",
     "output_type": "stream",
     "text": [
      "Transformed Ohio Business Data:\n",
      "   x_coordinates  y_coordinates  OBJECTID   COLS_KEY             address  \\\n",
      "0   1.796884e+06  731334.361343  20415656   626098.0  3750 ZANE TRACE DR   \n",
      "1   1.842715e+06  749717.238291  20415657  1268125.0       2645 MORSE RD   \n",
      "2   1.847615e+06  689890.356632  20415658   465109.0  3699 ALUM CREEK DR   \n",
      "3   1.796091e+06  728398.931190  20415659   810355.0    2180 N WILSON RD   \n",
      "4   1.806697e+06  712614.778047  20415660   885361.0     2872 W BROAD ST   \n",
      "\n",
      "                        business_name                    category POI_SOURCE  \\\n",
      "0                          Pet Brands      Industrial - Warehouse        NaN   \n",
      "1  Kohler Bathroom & Kitchen Products  Retail - Commercial/Retail        NaN   \n",
      "2  Shasta National Beverage Warehouse      Industrial - Warehouse        NaN   \n",
      "3                  Metal Supermarkets  Retail - Commercial/Retail        NaN   \n",
      "4            American Health Network              Medical - Other        NaN   \n",
      "\n",
      "  PRIMARY_USE ALT_GEOM                                GLOBALID WEBSITE OB_GYN  \\\n",
      "0           Y        Y  {F2C8EB1B-45DB-412A-B929-0D857CD18806}     NaN    NaN   \n",
      "1           Y        Y  {3A9C7DC9-08CD-4D6F-A03D-7B41D18DD20E}     NaN    NaN   \n",
      "2           Y        Y  {6986355D-E68F-42EC-9B65-77BAD21BB0F9}     NaN    NaN   \n",
      "3           Y        Y  {067557F5-3473-4887-BF6E-1737847ACA36}     NaN    NaN   \n",
      "4           Y        Y  {B007DE45-FA77-4A34-8B37-5D9350A038B3}     NaN    NaN   \n",
      "\n",
      "  PEDIATRICS  \n",
      "0        NaN  \n",
      "1        NaN  \n",
      "2        NaN  \n",
      "3        NaN  \n",
      "4        NaN  \n"
     ]
    }
   ],
   "source": [
    "# Step 4: Display the transformed data\n",
    "print(\"Transformed Ohio Business Data:\")\n",
    "print(ohio_business_df.head())\n",
    "\n"
   ]
  },
  {
   "cell_type": "code",
   "execution_count": 83,
   "metadata": {},
   "outputs": [
    {
     "name": "stdout",
     "output_type": "stream",
     "text": [
      "Transformed data has been saved to C:\\New folder\\Transformed_Ohio_Business_Data.xlsx\n"
     ]
    }
   ],
   "source": [
    "import os\n",
    "import pandas as pd\n",
    "\n",
    "# Step 1: Ensure the directory exists\n",
    "output_directory = \"C:\\\\New folder\"\n",
    "os.makedirs(output_directory, exist_ok=True)\n",
    "\n",
    "# Step 2: Define the output file path\n",
    "output_excel_file = os.path.join(output_directory, \"Transformed_Ohio_Business_Data.xlsx\")\n",
    "\n",
    "# Step 3: Delete the file if it already exists\n",
    "if os.path.exists(output_excel_file):\n",
    "    try:\n",
    "        os.remove(output_excel_file)\n",
    "    except PermissionError:\n",
    "        print(f\"PermissionError: Unable to delete the existing file at {output_excel_file}. Please close the file if it is open.\")\n",
    "\n",
    "# Step 4: Save the transformed data to the Excel file\n",
    "try:\n",
    "    ohio_business_df.to_excel(output_excel_file, index=False)\n",
    "    print(f\"Transformed data has been saved to {output_excel_file}\")\n",
    "except PermissionError:\n",
    "    print(f\"PermissionError: Unable to save the file to {output_excel_file}. Please ensure the file is not open and you have write permissions.\")\n"
   ]
  },
  {
   "cell_type": "code",
   "execution_count": 84,
   "metadata": {},
   "outputs": [
    {
     "name": "stdout",
     "output_type": "stream",
     "text": [
      "Transformed Ohio Business Data:\n",
      "   x_coordinates  y_coordinates  OBJECTID   COLS_KEY             address  \\\n",
      "0   1.796884e+06  731334.361343  20415656   626098.0  3750 ZANE TRACE DR   \n",
      "1   1.842715e+06  749717.238291  20415657  1268125.0       2645 MORSE RD   \n",
      "2   1.847615e+06  689890.356632  20415658   465109.0  3699 ALUM CREEK DR   \n",
      "3   1.796091e+06  728398.931190  20415659   810355.0    2180 N WILSON RD   \n",
      "4   1.806697e+06  712614.778047  20415660   885361.0     2872 W BROAD ST   \n",
      "\n",
      "                        business_name                    category POI_SOURCE  \\\n",
      "0                          Pet Brands      Industrial - Warehouse        NaN   \n",
      "1  Kohler Bathroom & Kitchen Products  Retail - Commercial/Retail        NaN   \n",
      "2  Shasta National Beverage Warehouse      Industrial - Warehouse        NaN   \n",
      "3                  Metal Supermarkets  Retail - Commercial/Retail        NaN   \n",
      "4            American Health Network              Medical - Other        NaN   \n",
      "\n",
      "  PRIMARY_USE ALT_GEOM                                GLOBALID WEBSITE OB_GYN  \\\n",
      "0           Y        Y  {F2C8EB1B-45DB-412A-B929-0D857CD18806}     NaN    NaN   \n",
      "1           Y        Y  {3A9C7DC9-08CD-4D6F-A03D-7B41D18DD20E}     NaN    NaN   \n",
      "2           Y        Y  {6986355D-E68F-42EC-9B65-77BAD21BB0F9}     NaN    NaN   \n",
      "3           Y        Y  {067557F5-3473-4887-BF6E-1737847ACA36}     NaN    NaN   \n",
      "4           Y        Y  {B007DE45-FA77-4A34-8B37-5D9350A038B3}     NaN    NaN   \n",
      "\n",
      "  PEDIATRICS  \n",
      "0        NaN  \n",
      "1        NaN  \n",
      "2        NaN  \n",
      "3        NaN  \n",
      "4        NaN  \n"
     ]
    }
   ],
   "source": [
    "# Step 7: Display the transformed data\n",
    "print(\"Transformed Ohio Business Data:\")\n",
    "print(ohio_business_df.head())\n"
   ]
  },
  {
   "cell_type": "code",
   "execution_count": 85,
   "metadata": {},
   "outputs": [
    {
     "name": "stdout",
     "output_type": "stream",
     "text": [
      "Transformed data has been saved to C:\\New folder\\Transformed_Ohio_Business_Data.xlsx\n"
     ]
    }
   ],
   "source": [
    "print(f\"Transformed data has been saved to {output_excel_file}\")\n"
   ]
  }
 ],
 "metadata": {
  "kernelspec": {
   "display_name": "Python 3",
   "language": "python",
   "name": "python3"
  },
  "language_info": {
   "codemirror_mode": {
    "name": "ipython",
    "version": 3
   },
   "file_extension": ".py",
   "mimetype": "text/x-python",
   "name": "python",
   "nbconvert_exporter": "python",
   "pygments_lexer": "ipython3",
   "version": "3.13.2"
  }
 },
 "nbformat": 4,
 "nbformat_minor": 2
}
